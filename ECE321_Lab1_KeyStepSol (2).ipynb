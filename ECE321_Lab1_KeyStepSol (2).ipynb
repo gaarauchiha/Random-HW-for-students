{
 "cells": [
  {
   "cell_type": "markdown",
   "metadata": {
    "id": "gkyL9AbZN9Je"
   },
   "source": [
    "  # ECE 321: Continuous-Time Signals and Systems #\n",
    " ### Spring 2025 ###\n",
    " ### Lab 1 ###\n",
    " ___________________________________________"
   ]
  },
  {
   "cell_type": "markdown",
   "metadata": {
    "id": "-cC4y6hrN9Jf"
   },
   "source": [
    " ### Due Date ###\n",
    "\n",
    "Please follow the ECE 321 lab report guidelines and requirements that are provided in the Lab Syllabus. Refer\n",
    "to the Laboratory Schedule for your section to determine the report due date. Submit via Canvas. </font>"
   ]
  },
  {
   "cell_type": "markdown",
   "metadata": {
    "id": "b1qD8WhnN9Jg"
   },
   "source": [
    " ### Description ###\n",
    "\n",
    " The purpose of this lab is to review properties of continuous-time sinusoidal signals and to refresh on how\n",
    "Python can be used to visualize and analyze these signals. You will practice on basic signal operations and\n",
    "transformations. You will also review the Nyquist sampling theorem and consider the required sampling rate\n",
    "for sinusoids. Before beginning the lab, please read Sections 1.2-1.3 of the Signals and Systems textbook by\n",
    "Oppenheim and Willsky. Review your ECE 201 notes on sinusoidal signals, sampling theory, and the use of\n",
    "Python NumPy functions for scientific computing."
   ]
  },
  {
   "cell_type": "markdown",
   "metadata": {
    "id": "Zw97WtnEN9Jg"
   },
   "source": [
    "### 1 Signal operations ###"
   ]
  },
  {
   "cell_type": "markdown",
   "metadata": {
    "id": "dDe6Df3AN9Jg"
   },
   "source": [
    "<blockquote> (a) Transform complex numbers from rectangular to polar form and vice versa using NumPy library. <br>\n",
    "To install this library, you may use the following command: <br>\n",
    "    !pip install NumPy<br>\n",
    "then you may need to restart the Kernel.<br>\n",
    "    Given x = 5 + j6 and y = 2 − j3 in their Cartesian coordinates, use NumPy library functions as np.abs for amplitud and np.angle for angular phase, and convert x and y to polar form. Then, revert the transformation to obtain the rectangular coordinates. Write down x\n",
    "and y in polar coordinates by using print function. </font> </blockquote>"
   ]
  },
  {
   "cell_type": "code",
   "execution_count": null,
   "metadata": {
    "id": "Onc9COLkN9Jm"
   },
   "outputs": [],
   "source": [
    "# Load librarues\n",
    "import numpy as np\n",
    "\n",
    "# Given rectangular (Cartesian) coordinates\n",
    "x_rectangular =            #please give x in their Cartesian coordinates\n",
    "y_rectangular =            #please give y in their Cartesian coordinates\n",
    "\n",
    "# Convert to polar form\n",
    "x_polar = np.abs(x_rectangular), np.angle(x_rectangular, deg=True)\n",
    "y_polar = np.abs(y_rectangular), np.angle(y_rectangular, deg=True)\n",
    "\n",
    "# Print polar coordinates\n",
    "print(f\"x in polar coordinates: {x_polar}\")\n",
    "print(f\"y in polar coordinates: {y_polar}\")\n",
    "print(\"------------------------------------------------------------------------------------------\")\n",
    "\n",
    "# Convert back to rectangular form\n",
    "x_rectangular_back = x_polar[0] * np.exp(1j * np.radians(x_polar[1]))\n",
    "y_rectangular_back = y_polar[0] * np.exp(1j * np.radians(y_polar[1]))\n",
    "\n",
    "# Print rectangular coordinates after conversion back\n",
    "print(f\"x in rectangular coordinates (after conversion back): {x_rectangular_back}\")\n",
    "print(f\"y in rectangular coordinates (after conversion back): {y_rectangular_back}\")"
   ]
  },
  {
   "cell_type": "markdown",
   "metadata": {
    "id": "Qj8RpXlCN9Jn"
   },
   "source": [
    "<blockquote> (b) Find u = xy and v = x/y in Cartesian and polar coordinates. Write down u and v in both coordinates.</font> </blockquote>"
   ]
  },
  {
   "cell_type": "code",
   "execution_count": null,
   "metadata": {
    "id": "iTSo5_bjN9Jn"
   },
   "outputs": [],
   "source": [
    "# Calculate u\n",
    "u =  #please give u here. you can use x_rectangular as x and y_rectangular as y.\n",
    "\n",
    "# Calculate v\n",
    "v =  #please give v here. you can use x_rectangular as x and y_rectangular as y.\n",
    "\n",
    "# Print results\n",
    "print(f\"u in Cartesian coordinates: {u}\")\n",
    "print(f\"v in Cartesian coordinates: {v}\")\n",
    "\n",
    "# Convert to polar coordinates\n",
    "u_polar = np.abs(u), np.angle(u, deg=True)\n",
    "v_polar = np.abs(v), np.angle(v, deg=True)\n",
    "\n",
    "# Print results\n",
    "print(f\"u in polar coordinates: {u_polar}\")\n",
    "print(f\"v in polar coordinates: {v_polar}\")"
   ]
  },
  {
   "cell_type": "markdown",
   "metadata": {
    "id": "NUrxeYwmN9Jn"
   },
   "source": [
    "<blockquote> (c) Convert the phasor x into a sinusoid x(t) at frequency $f_0 = 50$ Hz. Write down the mathematical expression for x(t). Plot x(t) for one second, using the function plot from module pyplot at matplotlib library. <br>\n",
    "To install this library, you may use the following command: <br>\n",
    "    !pip install matplotlib<br>\n",
    "then you may need to restart the Kernel.<br> Label the x-axis and y-axis clearly to properly indicate the time scale and amplitude. To lable the axes you may use the following code: <br>\n",
    "plt.xlabel('Time (s)')<br>\n",
    "plt.ylabel('Amplitude')<br>\n",
    "    </font> </blockquote>"
   ]
  },
  {
   "cell_type": "markdown",
   "metadata": {
    "id": "Vh6VjjYZN9Jo"
   },
   "source": [
    "Let us assume a specific phasor $x=Ae^{j\\phi}$, where $A$ is the amplitude of x, and $\\phi$ is the phase angle of x. In this case, the expression for $x(t)$ becomes:\n",
    "\n",
    "$x(t)=Acos⁡(2\\pi f_0t+\\phi)$\n",
    "\n",
    "Now, let us plot $x(t)$ for one second using Python and the matplotlib library. Ensure you have the library installed by running pip install matplotlib if you haven not already."
   ]
  },
  {
   "cell_type": "code",
   "execution_count": null,
   "metadata": {
    "id": "uxkJhhI6N9Jo"
   },
   "outputs": [],
   "source": [
    "import numpy as np\n",
    "import matplotlib.pyplot as plt\n",
    "import math\n",
    "\n",
    "# Given values\n",
    "A = np.abs(x_rectangular)  # Amplitude\n",
    "f0 = 50  # Frequency in Hz\n",
    "phi = math.radians(np.angle(x_rectangular, deg=True)) # Phase angle in radians\n",
    "\n",
    "\n",
    "\n",
    "sampling_rate = 1000\n",
    "start_point = 0\n",
    "end_point = 1\n",
    "duration = end_point - start_point\n",
    "\n",
    "# Time values from 0 to 1 second with a small time step\n",
    "t = np.linspace(start_point, duration, int(sampling_rate * duration), endpoint=False)\n",
    "\n",
    "# Mathematical expression for x(t).\n",
    "x_t =  #please give x_t here. You can use np.cos() as cos, np.pi as π\n",
    "\n",
    "# Plot the cosine signal\n",
    "plt.figure(figsize=(15, 3))\n",
    "plt.plot(t, x_t, label='$ x(t) = Acos⁡(2\\pi f_0t+\\phi)$')\n",
    "plt.title('Cosine Signal x(t)')\n",
    "plt.xlabel('Time (s)')\n",
    "plt.ylabel('Amplitude')\n",
    "plt.legend()\n",
    "plt.xticks(np.arange(0, 1, step=0.1))\n",
    "plt.yticks(np.arange(-8, 10, step=2))\n",
    "plt.grid(True)\n",
    "plt.xlim((start_point,end_point))\n",
    "plt.show()\n",
    "\n"
   ]
  },
  {
   "cell_type": "markdown",
   "metadata": {
    "id": "ooGY2JmUN9Jp"
   },
   "source": [
    "<blockquote> (d) Let $w(t) = u(t) − u(t − 1)$ denote a rectangular function of time-length 1, where $u(t)$ is the unit step function. The signal $x(t)$ in (c) is transformed into $z(t$) and $\\tilde{z}(t)$ as below. Plot $z(t)$ and $\\tilde{z}(t)$ for $−1 \\leq t \\leq 2$ in second. Label the x-axis and y-axis clearly to properly indicate the time scale and amplitude.\n",
    "    \n",
    "$z(t) = w(t)x(t)$ and $\\tilde{z}(t) = w(t) + x(t)$.</font> </blockquote>"
   ]
  },
  {
   "cell_type": "code",
   "execution_count": null,
   "metadata": {
    "id": "bkPlUybWN9Jp"
   },
   "outputs": [],
   "source": [
    "import numpy as np\n",
    "import matplotlib.pyplot as plt\n",
    "\n",
    "# Given signal x(t)\n",
    "def x(t):\n",
    "    x_t =  # The signal  𝑥(𝑡)  in (c)\n",
    "    return x_t\n",
    "\n",
    "# Plotting\n",
    "plt.figure(figsize=(15, 3))\n",
    "plt.xlim(start_point, end_point)\n",
    "plt.plot(t, x(t), label='$ x(t) = Acos⁡(2\\pi f_0t+\\phi)$')\n",
    "plt.title('Cosine Signal x(t)')\n",
    "plt.xlabel('Time (s)')\n",
    "plt.ylabel('Amplitude')\n",
    "plt.grid(True)\n",
    "plt.xlim((start_point,end_point))\n",
    "plt.show()\n",
    "\n",
    "\n",
    "# Unit step function\n",
    "def u(t):\n",
    "    return np.piecewise(t, [t < 0, t >= 0], [0, 1])\n",
    "\n",
    "# Rectangular function w(t)\n",
    "def w(t):\n",
    "    w_t =  #please give w(t) here.\n",
    "    return w_t\n",
    "\n",
    "# Plotting\n",
    "plt.figure(figsize=(15, 3))\n",
    "plt.xlim(start_point, end_point)\n",
    "plt.plot(t, w(t), label='$ w(t) = u(t) - u(t-1)$')\n",
    "plt.title('Rectangular signal w(t)')\n",
    "plt.xlabel('Time (s)')\n",
    "plt.ylabel('Amplitude')\n",
    "plt.grid(True)\n",
    "plt.xlim((start_point,end_point))\n",
    "plt.show()\n",
    "\n",
    "# Signal z(t)\n",
    "def z(t):\n",
    "    z_t =  #please give z(t) here.\n",
    "    return z_t\n",
    "\n",
    "\n",
    "# Plotting\n",
    "plt.figure(figsize=(15, 3))\n",
    "plt.xlim(start_point, end_point)\n",
    "plt.plot(t,  z(t))\n",
    "plt.title('$z(t) = w(t) \\\\cdot x(t)$')\n",
    "plt.xlabel('Time (s)')\n",
    "plt.ylabel('Amplitude')\n",
    "plt.grid(True)\n",
    "# plt.xticks(np.arange(start_point, end_point, step=0.5))\n",
    "# plt.yticks(np.arange(-8, 10, step=2))\n",
    "plt.xlim((start_point,end_point))\n",
    "plt.show()\n",
    "\n",
    "# Signal z~(t)\n",
    "def ztilde(t):\n",
    "    ztilde_t =  #please give ztilde_t here.\n",
    "    return ztilde_t\n",
    "\n",
    "\n",
    "# Plotting\n",
    "plt.figure(figsize=(15, 3))\n",
    "plt.xlim(start_point, end_point)\n",
    "plt.plot(t, ztilde(t))\n",
    "plt.title('$\\\\tilde{z}(t) = w(t) + x(t)$')\n",
    "plt.xlabel('Time (s)')\n",
    "plt.ylabel('Amplitude')\n",
    "plt.grid(True)\n",
    "# plt.xticks(np.arange(start_point, end_point, step=0.5))\n",
    "# plt.yticks(np.arange(-8, 10, step=2))\n",
    "plt.xlim((start_point,end_point))\n"
   ]
  },
  {
   "cell_type": "markdown",
   "metadata": {
    "id": "6FAg7UzAN9Jp"
   },
   "source": [
    "<blockquote> (e) Consider z(t) in (d). Find and plot the following transformed signals.\n",
    "    \n",
    "$y_0(t) = z(t/3)\\\\\n",
    "y_1(t) = z(3t)\\\\\n",
    "y_2(t) = z(−t + 1)\\\\\n",
    "y_3(t) = z(−3t + 1)\\\\\n",
    "y_4(t) = z(−3t^2 + 1))$ </font> </blockquote>"
   ]
  },
  {
   "cell_type": "code",
   "execution_count": null,
   "metadata": {
    "id": "kbSSfnAjN9Jp",
    "scrolled": false
   },
   "outputs": [],
   "source": [
    "\n",
    "# Plotting\n",
    "plt.figure(figsize=(15, 3))\n",
    "plt.plot(t,  z(t))\n",
    "plt.title('$z(t) = w(t) \\\\cdot x(t)$')\n",
    "plt.xlabel('Time (s)')\n",
    "plt.ylabel('Amplitude')\n",
    "plt.grid(True)\n",
    "plt.xlim((start_point,end_point))\n",
    "plt.show()\n",
    "\n",
    "# Transformed signals\n",
    "def y0(t):\n",
    "    return z(t/3)\n",
    "\n",
    "plt.figure(figsize=(15, 3))\n",
    "plt.plot(t, y0(t))\n",
    "plt.title('$y_0(t) = z(t/3)$')\n",
    "plt.xlabel('Time (s)')\n",
    "plt.ylabel('Amplitude')\n",
    "plt.grid(True)\n",
    "plt.xlim(start_point, end_point)\n",
    "plt.show()\n",
    "\n",
    "\n",
    "\n",
    "def y1(t):\n",
    "    return  #please give y1(t) here.\n",
    "\n",
    "\n",
    "# plt.subplot(3, 2, 3)\n",
    "plt.figure(figsize=(15, 3))\n",
    "plt.plot(t, y1(t))\n",
    "plt.title('$y_1(t) = z(3t)$')\n",
    "plt.xlabel('Time (s)')\n",
    "plt.ylabel('Amplitude')\n",
    "plt.grid(True)\n",
    "plt.xlim(start_point, end_point)\n",
    "plt.show()\n",
    "\n",
    "\n",
    "def y2(t):\n",
    "    return  #please give y2(t) here.\n",
    "\n",
    "# plt.subplot(3, 2, 4)\n",
    "plt.figure(figsize=(15, 3))\n",
    "plt.plot(t, y2(t))\n",
    "plt.title('$y_2(t) = z(-t + 1)$')\n",
    "plt.xlabel('Time (s)')\n",
    "plt.ylabel('Amplitude')\n",
    "plt.grid(True)\n",
    "plt.xlim(start_point, end_point)\n",
    "plt.show()\n",
    "\n",
    "\n",
    "def y3(t):\n",
    "    return   #please give y3(t) here.\n",
    "\n",
    "\n",
    "# plt.subplot(3, 2, 5)\n",
    "plt.figure(figsize=(15, 3))\n",
    "plt.plot(t, y3(t))\n",
    "plt.title('$y_3(t) = z(-3t + 1)$')\n",
    "plt.xlabel('Time (s)')\n",
    "plt.ylabel('Amplitude')\n",
    "plt.grid(True)\n",
    "plt.xlim(start_point, end_point)\n",
    "plt.show()\n",
    "\n",
    "def y4(t):\n",
    "    return  #please give y4(t) here.\n",
    "\n",
    "plt.figure(figsize=(15, 3))\n",
    "plt.plot(t, y4(t))\n",
    "plt.title('$y_4(t) = z(-3t^2 + 1)$')\n",
    "plt.xlabel('Time (s)')\n",
    "plt.ylabel('Amplitude')\n",
    "plt.grid(True)\n",
    "plt.xlim(-2, end_point)\n",
    "plt.show()"
   ]
  },
  {
   "cell_type": "markdown",
   "metadata": {
    "id": "Q_MLuyRaN9Jp"
   },
   "source": [
    "### 2 Review of Sinusoidal Signals and Sampling ###"
   ]
  },
  {
   "cell_type": "markdown",
   "metadata": {
    "id": "wxBLxJGRN9Jq"
   },
   "source": [
    "#### 2.1 Sinusoids ####"
   ]
  },
  {
   "cell_type": "markdown",
   "metadata": {
    "id": "TfEgNwN8N9Jq"
   },
   "source": [
    "<blockquote> Define a Python function that generates all the plots for this section. Save this module for future use.\n",
    "Consider the sinusoidal signal defined below:\n",
    "    \n",
    "    \n",
    "$x(t)=A\\cos(2\\pi f_0 t+\\theta)$\n",
    "    \n",
    "For this part assume that the parameters are: $A=1$, $f_0=600$ Hz, and $\\theta=\\pi/3$ rad. </font>\n",
    "\n",
    "Steps to Create a Function in Python:\n",
    "\n",
    "1. Define the Function:\n",
    "Use the def keyword followed by the function name and parentheses. If the function takes parameters, list them inside the parentheses.\n",
    "\n",
    "2. Write the Function Body:\n",
    "Indent the code block that forms the body of the function. This is where you define what the function does.\n",
    "\n",
    "3. Use the return Statement (optional):\n",
    "If your function produces a result, you can use the return statement to send that result back to the caller.\n",
    "\n",
    "4. Calling the Function:\n",
    "After defining the function, you can call it by using its name followed by parentheses. If the function takes parameters, provide values inside the parentheses.<br>\n",
    "    \n",
    "Example Code: <br>\n",
    "def greet(name): # Step 1: Define the function<br>\n",
    "message = \"Hello, \" + name + \"!\" # Step 2: Write the function body<br>\n",
    "return message # Step 3: Use the 'return' statement (optional)<br>\n",
    "result = greet(\"John\") # Step 4: Calling the function<br>\n",
    "print(result) # Display the result<br>\n",
    "\n",
    "</blockquote>"
   ]
  },
  {
   "cell_type": "markdown",
   "metadata": {
    "id": "oM7xYlvaXzAD"
   },
   "source": [
    "## Review of Sinusoidal Signals and Sampling\n",
    "\n",
    "### Sinusoids\n",
    "\n",
    "Define a Python module that generates all the plots for this section. Save this module for future use.\n",
    "\n",
    "Consider the sinusoidal signal defined below:\n",
    "$$\n",
    "x(t)=A\\cos(2\\pi f_0 t+\\theta).\n",
    "$$\n",
    "For this part assume that the parameters are: \\( A=1 \\), \\( f_0=600 \\) Hz, and \\( \\theta=\\frac{\\pi}{3} \\) rad.\n",
    "\n",
    "1. What is the period \\( $T_0$ \\) of this signal?\n",
    "2. How fast must this signal be sampled to avoid aliasing? Recall that this is the Nyquist rate. Which parameters affect the required sample rate?\n",
    "3. Select a sample rate \\( f_s \\) that is close to the Nyquist rate and make a plot of 4 periods of this signal. Plot the signal versus the appropriate time axis (not sample number). Your plot should start at \\( t=0 \\). Indicate what sample rate you used to generate the plot.\n",
    "4. To make a sinusoidal plot that looks like a continuous-time signal, it is often necessary to sample a signal at a rate significantly higher than the Nyquist rate. Experiment with the sampling rate required to make a smooth plot of \\( x(t) \\). Plot this highly sampled version on the same axes as the previous plot using a different line style. You should use the label command to label the two lines.\n",
    "5. Comment on the sampling rate required to make the signal appear continuous. In some applications, you will want to have a sampling rate high enough so that the plots are smooth, but not so high that it is a burden to process and/or store more samples than necessary. In future work, you will be expected to be able to select an appropriate sampling rate when creating plots of simulated continuous-time signals.\n"
   ]
  },
  {
   "cell_type": "markdown",
   "metadata": {
    "id": "DlUqvJzkY_W4"
   },
   "source": [
    "## Review of Sinusoidal Signals and Sampling\n",
    "\n",
    "### Sinusoids\n",
    "\n",
    "Define a Python module that generates all the plots for this section. Save this module for future use.\n",
    "\n",
    "Consider the sinusoidal signal defined below:\n",
    "$$\n",
    "x(t)=A\\cos(2\\pi f_0 t+\\theta).\n",
    "$$\n",
    "For this part assume that the parameters are: $A=1$, $f_0=600$ Hz, and $\\theta=\\frac{\\pi}{3}$ rad.\n",
    "\n",
    "1. What is the period $T_0$ of this signal?\n",
    "2. How fast must this signal be sampled to avoid aliasing? Recall that this is the Nyquist rate. Which parameters affect the required sample rate?\n",
    "3. Select a sample rate $f_s$ that is close to the Nyquist rate and make a plot of 4 periods of this signal. Plot the signal versus the appropriate time axis (not sample number). Your plot should start at $t=0$. Indicate what sample rate you used to generate the plot.\n",
    "4. To make a sinusoidal plot that looks like a continuous-time signal, it is often necessary to sample a signal at a rate significantly higher than the Nyquist rate. Experiment with the sampling rate required to make a smooth plot of $x(t)$. Plot this highly sampled version on the same axes as the previous plot using a different line style. You should use the label command to label the two lines.\n",
    "5. Comment on the sampling rate required to make the signal appear continuous. In some applications, you will want to have a sampling rate high enough so that the plots are smooth, but not so high that it is a burden to process and/or store more samples than necessary. In future work, you will be expected to be able to select an appropriate sampling rate when creating plots of simulated continuous-time signals.\n"
   ]
  },
  {
   "cell_type": "code",
   "execution_count": null,
   "metadata": {
    "id": "x2wj6uh7N9Jq",
    "scrolled": true
   },
   "outputs": [],
   "source": [
    "import numpy as np\n",
    "import matplotlib.pyplot as plt\n",
    "\n",
    "A=1 # Amplitude\n",
    "f0=600 # Frequency\n",
    "theta=np.pi/3 # Angular phase in radious\n",
    "T0 = 1 / f0 # Period\n",
    "duration= 4 * T0 # plotting duration\n",
    "sampling_rate=100000 # sampling rate\n",
    "\n",
    "\n",
    "def generate_cosine_plot(A, f0, theta, sampling_rate, marker_flag = False):\n",
    "    \"\"\"\n",
    "    Generate plots for a sinusoidal signal.\n",
    "\n",
    "    Parameters:\n",
    "    - A: Amplitude of the sinusoidal signal.\n",
    "    - f0: Frequency of the sinusoidal signal in Hertz.\n",
    "    - theta: Phase angle in radians.\n",
    "    - duration: Duration of the signal in seconds.\n",
    "    - sampling_rate: Number of samples per second.\n",
    "\n",
    "    Returns:\n",
    "    None (displays plots).\n",
    "    \"\"\"\n",
    "    duration = 4 / f0\n",
    "    t = np.linspace(0, duration, int(sampling_rate * duration), endpoint=False)\n",
    "    x_t =      #please give x_t here.\n",
    "\n",
    "    # Plot the signal in time domain\n",
    "    plt.figure(figsize=(15, 3))\n",
    "    if marker_flag == True:\n",
    "        plt.plot(t, x_t, color='blue', marker='o')\n",
    "        plt.title(f'Cosine Signal x(t) with sampling rate {sampling_rate} Hz')\n",
    "    else:\n",
    "        plt.plot(t, x_t)\n",
    "        plt.title(f'Cosine Signal x(t)')\n",
    "    plt.xlabel('Time (s)')\n",
    "    plt.ylabel('Amplitude')\n",
    "    plt.xlim((0,4*T0))\n",
    "    plt.xticks(np.arange(0, duration+T0/4, step=T0/4))\n",
    "    plt.yticks(np.arange(-A, 5*A/4, step=A/4))\n",
    "    plt.grid(True)\n",
    "\n",
    "    plt.tight_layout()\n",
    "    plt.show()\n",
    "\n",
    "# Call the function with default parameters\n",
    "generate_cosine_plot(A, f0, theta, sampling_rate)"
   ]
  },
  {
   "cell_type": "markdown",
   "metadata": {
    "id": "b64lR3yQN9Jq"
   },
   "source": [
    "<blockquote> (a) What is the period T0 of this signal?</font> </blockquote>"
   ]
  },
  {
   "cell_type": "markdown",
   "metadata": {
    "id": "FZ_K3djrN9Jq"
   },
   "source": [
    "$T_0 = \\frac{1}{f_0}=\\frac{1}{600}$ s"
   ]
  },
  {
   "cell_type": "code",
   "execution_count": null,
   "metadata": {
    "id": "h3uRRNCxN9Jq"
   },
   "outputs": [],
   "source": [
    "# Period\n",
    "T0 =   #please give T0 here.\n",
    "T0_ms = T0 * 1000\n",
    "# Display the result\n",
    "print(f\"The period T0 of the sinusoidal signal is {T0:.6f} seconds, that is {T0_ms:.2f} milliseconds.\")"
   ]
  },
  {
   "cell_type": "markdown",
   "metadata": {
    "id": "aml2ecQxN9Jq"
   },
   "source": [
    "<blockquote>(b) How fast must this signal be sampled to avoid aliasing? Recall that this is the Nyquist rate. Which\n",
    "parameters affect the required sample rate?</font> </blockquote>"
   ]
  },
  {
   "cell_type": "markdown",
   "metadata": {
    "id": "Bjpu2Bw_N9Jq"
   },
   "source": [
    "To avoid aliasing, the signal must be sampled at a rate higher than the Nyquist rate, which is twice the highest frequency component in the signal. The Nyquist rate $f_{Nyquist}$ is given by:\n",
    "\n",
    "$f_{Nyquist}=2×f_{max}$\n",
    "\n",
    "where $f_{max}$ is the maximum frequency component in the signal.\n",
    "\n",
    "In the given sinusoidal signal, the frequency $f_0$ is the maximum frequency component. Therefore, the Nyquist rate is:\n",
    "\n",
    "$f_{Nyquist}=2×f_{0}$\n",
    "\n",
    "Let's calculate the Nyquist rate and discuss which parameters affect the required sample rate:"
   ]
  },
  {
   "cell_type": "code",
   "execution_count": null,
   "metadata": {
    "id": "zJFvusZON9Jr"
   },
   "outputs": [],
   "source": [
    "\n",
    "# Calculate the Nyquist rate\n",
    "nyquist_rate =  #please give 𝑓𝑁𝑦𝑞𝑢𝑖𝑠𝑡 here.\n",
    "\n",
    "# Display the Nyquist rate\n",
    "print(f\"The Nyquist rate for the given signal is {nyquist_rate} Hz.\")"
   ]
  },
  {
   "cell_type": "markdown",
   "metadata": {
    "id": "mQbZLI42N9Jr"
   },
   "source": [
    "<blockquote>(c) Select a sample rate $f_s$ that is close to the Nyquist rate and make a plot of 4 periods of this signal and name this signal x1. Plot the signal versus the appropriate time axis (not sample number). Your plot should start at $t = 0$. Indicate what sample rate you used to generate the plot.</font> </blockquote>"
   ]
  },
  {
   "cell_type": "code",
   "execution_count": null,
   "metadata": {
    "id": "JsqlithiN9Jr",
    "scrolled": false
   },
   "outputs": [],
   "source": [
    "generate_cosine_plot(A, f0, theta, sampling_rate = 0.85 * nyquist_rate,  marker_flag = True)"
   ]
  },
  {
   "cell_type": "markdown",
   "metadata": {
    "id": "5-rvRYbDN9Jr"
   },
   "source": [
    "<blockquote> (d) To make a sinusoidal plot that looks like a continuous-time signal, it is often necessary to sample a signal at a rate significantly higher than the Nyquist rate (Name this signal x2). Experiment with the sampling rate required to make a smooth plot of x(t). Plot this highly sampled version on the same axes as the previous plot using a different linestyle.<br>\n",
    "    \n",
    "To make different linestiles, you may use the following commands to represent plots different from each other on the same figure:<br>\n",
    "    \n",
    "plt.plot(t, x1, label='label1', marker='o', linestyle='-', color='blue')<br>\n",
    "plt.plot(t, x2, label='label2', marker='s', linestyle='--', color='green')<br>\n",
    "    \n",
    "</font> </blockquote>"
   ]
  },
  {
   "cell_type": "code",
   "execution_count": null,
   "metadata": {
    "id": "T6wbuWGMN9Jr"
   },
   "outputs": [],
   "source": [
    "\n",
    "plt.figure(figsize=(15, 3))\n",
    "duration = 4 / f0\n",
    "sampling_rate = .85 * nyquist_rate\n",
    "t = np.linspace(0, duration, int(sampling_rate * duration), endpoint=False)\n",
    "x_t =      #please give x_t here.\n",
    "plt.plot(t, x_t, color='blue', marker='o', linestyle='-', label= f'Sampling Rate: {sampling_rate}')\n",
    "\n",
    "sampling_rate = 10 * nyquist_rate\n",
    "t = np.linspace(0, duration, int(sampling_rate * duration), endpoint=False)\n",
    "x_t =      #please give x_t here.\n",
    "\n",
    "\n",
    "# Plot the signal in time domain\n",
    "# plt.figure(figsize=(15, 3))\n",
    "plt.plot(t, x_t, color='red', marker='^', linestyle='--', label= f'Sampling Rate: {sampling_rate}')\n",
    "\n",
    "plt.xlabel('Time (s)')\n",
    "plt.ylabel('Amplitude')\n",
    "plt.xlim((0,duration))\n",
    "plt.xticks(np.arange(0, duration+T0/4, step=T0/4))\n",
    "plt.yticks(np.arange(-A, 5*A/4, step=A/4))\n",
    "plt.grid(True)\n",
    "\n",
    "plt.legend()\n",
    "plt.show()"
   ]
  },
  {
   "cell_type": "markdown",
   "metadata": {
    "id": "gs7pX71sN9Jr"
   },
   "source": [
    "#### 2. 2 Sums of Sinusoids ####"
   ]
  },
  {
   "cell_type": "markdown",
   "metadata": {
    "id": "vr7qiQ57N9Jr"
   },
   "source": [
    "<blockquote> In this part you will generate a signal consisting of a sum of sinusoids with specified amplitudes, frequencies,\n",
    "and phases. You can synthesize music using sums of sinusoids.</font> </blockquote>"
   ]
  },
  {
   "cell_type": "markdown",
   "metadata": {
    "id": "8zNrAgoeN9Js"
   },
   "source": [
    "<blockquote> (a) Write a Python function module called \"sum_of_sines\" that produces a signal consisting of an arbitrary sum of sampled sinusoidal signals, i.e.,  <br>\n",
    "    \n",
    "$x_{\\rm sum}(t)=\\sum_k A_k\\cos(2\\pi f_kt+\\theta).$ <br>\n",
    "    \n",
    "The function should take the following inputs:\n",
    "- Vector A containing the amplitudes of the sinusoids\n",
    "- Vector f containing the frequencies of the sinusoids (in Hz)\n",
    "- Vector theta containing the phases of the sinusoids (in rad)\n",
    "- Vector t containing the vector of sample times <br>\n",
    "    \n",
    "The output of the function is x, a vector containing the summed signal xsum(t). Note that the function\n",
    "should automatically determine how many sinusoids are in the sum by the length of the frequency vector.\n",
    "You may use either a for loop or a matrix multiply to implement the summation.\n",
    "    </font> </blockquote>"
   ]
  },
  {
   "cell_type": "code",
   "execution_count": null,
   "metadata": {
    "id": "OqYYiASTN9Js"
   },
   "outputs": [],
   "source": [
    "import numpy as np\n",
    "\n",
    "def sum_of_sines(A, f, theta, t):\n",
    "    \"\"\"\n",
    "    Generate a signal consisting of an arbitrary sum of sampled sinusoidal signals.\n",
    "\n",
    "    Parameters:\n",
    "    - A: Vector containing the amplitudes of the sinusoids.\n",
    "    - f: Vector containing the frequencies of the sinusoids (in Hz).\n",
    "    - theta: Vector containing the phases of the sinusoids (in rad).\n",
    "    - t: Vector containing the vector of sample times.\n",
    "\n",
    "    Returns:\n",
    "    Vector x containing the summed signal x_sum(t).\n",
    "    \"\"\"\n",
    "    num_sinusoids = len(f)\n",
    "    x_sum = np.zeros_like(t)\n",
    "\n",
    "    for k in range(num_sinusoids):\n",
    "        x_sum += A[k] * np.cos(2 * np.pi * f[k] * t + theta[k])\n",
    "\n",
    "    return x_sum\n"
   ]
  },
  {
   "cell_type": "markdown",
   "metadata": {
    "id": "SWulncL2N9Js"
   },
   "source": [
    "<blockquote>(b) Test your function. Explain how you tested the code and provide a few plots verifying that your function\n",
    "worked.</blockquote>"
   ]
  },
  {
   "cell_type": "code",
   "execution_count": null,
   "metadata": {
    "id": "RwXHfVvhN9Js"
   },
   "outputs": [],
   "source": [
    "import matplotlib.pyplot as plt\n",
    "\n",
    "# Example parameters\n",
    "A = [1, 0.5, 0.2]  # Amplitudes\n",
    "f = [1, 2, 3]      # Frequencies (Hz)\n",
    "theta = [0, np.pi/3, np.pi/4]  # Phases (rad)\n",
    "t = np.linspace(0, 2, 1000)  # Sample times\n",
    "\n",
    "# Generate the summed signal\n",
    "x_sum = sum_of_sines(A, f, theta, t)\n",
    "\n",
    "# Plot the summed signal\n",
    "plt.figure(figsize=(15, 3))\n",
    "plt.plot(t, x_sum)\n",
    "plt.title('Sum of Arbitrary Sinusoidal Signals')\n",
    "plt.xlabel('Time (s)')\n",
    "plt.ylabel('Amplitude')\n",
    "plt.grid(True)\n",
    "plt.show()"
   ]
  },
  {
   "cell_type": "markdown",
   "metadata": {
    "id": "myhNu7kfN9Js"
   },
   "source": [
    "<blockquote>(c) Use your function to generate 3 seconds of a signal consisting of a sum of equal-amplitude sinusoids with frequencies $261.63$ Hz, $329.63$ Hz, and $392.00$ Hz. <br>\n",
    "    \n",
    "(This is a C major chord - see https://en.wikipedia.org/wiki/Major_chord and https://pages.mtu.edu/~suits/notefreqs.html).  Select an appropriate sampling frequency for your signal using your work from the previous section so that your signal appears continuous when plotted.</blockquote>"
   ]
  },
  {
   "cell_type": "code",
   "execution_count": null,
   "metadata": {
    "id": "dgsOK8OVN9Jw"
   },
   "outputs": [],
   "source": [
    "\n",
    "\n",
    "# Parameters for the C major chord\n",
    "amplitudes = [1, 1, 1]  # Equal amplitudes\n",
    "frequencies = []  # Frequencies of the C major chord, please give.\n",
    "phases = [0, 0, 0]  # No phase shift\n",
    "duration =   # seconds, please give.\n",
    "\n",
    "# Calculate the Nyquist rate\n",
    "nyquist_rate = 2 * max(frequencies)\n",
    "\n",
    "# Generate sample times with a sufficient number of samples\n",
    "sampling_rate = 10 * nyquist_rate  # Choose a higher sampling rate for clarity\n",
    "sample_times = np.linspace(0, duration, int(sampling_rate * duration), endpoint=False)\n",
    "\n",
    "# Generate the summed signal\n",
    "chord_signal = sum_of_sines(amplitudes, frequencies, phases, sample_times)\n",
    "\n",
    "# Plot the summed signal\n",
    "plt.figure(figsize=(15, 3))\n",
    "plt.plot(sample_times, chord_signal)\n",
    "plt.title('C Major Chord Signal')\n",
    "plt.xlabel('Time (s)')\n",
    "plt.ylabel('Amplitude')\n",
    "plt.grid(True)\n",
    "plt.show()"
   ]
  },
  {
   "cell_type": "markdown",
   "metadata": {
    "id": "P64CXKRON9Jw"
   },
   "source": [
    "<blockquote>(d) Play your signal through the computer speakers using sounddevice library. To install this library, you may use the following command: <br>\n",
    "    !pip install sounddevice<br>\n",
    "then you may need to restart the Kernel.\n",
    "</blockquote>"
   ]
  },
  {
   "cell_type": "code",
   "execution_count": null,
   "metadata": {
    "id": "TJf52Q_y7IqJ"
   },
   "outputs": [],
   "source": [
    "# !pip install sounddevice\n",
    "!sudo apt-get install portaudio19-dev\n"
   ]
  },
  {
   "cell_type": "code",
   "execution_count": null,
   "metadata": {
    "id": "fT1_FQ1O_FTP"
   },
   "outputs": [],
   "source": [
    "# This is another sound playing tool suitable for Google Colab\n",
    "# If neither works, student should find and install a tool by themselves.\n",
    "from IPython.display import Audio\n",
    "Audio(data=chord_signal, rate=sampling_rate)\n"
   ]
  }
 ],
 "metadata": {
  "colab": {
   "provenance": []
  },
  "kernelspec": {
   "display_name": "Python 3 (ipykernel)",
   "language": "python",
   "name": "python3"
  },
  "language_info": {
   "codemirror_mode": {
    "name": "ipython",
    "version": 3
   },
   "file_extension": ".py",
   "mimetype": "text/x-python",
   "name": "python",
   "nbconvert_exporter": "python",
   "pygments_lexer": "ipython3",
   "version": "3.11.3"
  }
 },
 "nbformat": 4,
 "nbformat_minor": 1
}
