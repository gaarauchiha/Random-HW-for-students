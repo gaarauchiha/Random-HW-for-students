{
 "cells": [
  {
   "cell_type": "markdown",
   "id": "75c6b638",
   "metadata": {
    "slideshow": {
     "slide_type": "slide"
    }
   },
   "source": [
    "# Lab 1: Getting Ready\n",
    "\n",
    "The main goal of today's lab is to get ready for the semester! \n",
    "\n",
    "We want to make sure that you have access to the software tools that we will need throughout the semester. This includes three steps:\n",
    "\n",
    "1. You are encouraged to set up the required software on your own computer. All software is free and open and works on all major platforms.\n",
    "2. We will use both Jupyter notebooks and Python scripts throughout the semester. We will show you where to find them and how to use them.\n",
    "3. A couple of quick demos will give you an idea what you can do with the our tools.\n"
   ]
  },
  {
   "cell_type": "markdown",
   "id": "28b0dfa8",
   "metadata": {
    "slideshow": {
     "slide_type": "slide"
    }
   },
   "source": [
    "## Installing Software\n",
    "\n",
    "We will be using the [Anaconda](https://www.anaconda.com/) software distribution for our class; it contains everything we will need.\n",
    "\n",
    "Anaconda is installed on the lab computers. You are encouraged to install it on your personal computers as well so that you can experiment outside the lab.\n",
    "\n",
    "To install, \n",
    "* download the installer package for your platform from https://www.anaconda.com/download,\n",
    "* then follow the installation instruction.\n",
    "* When this succeeds, you can launch the \"Anaconda Navigator\" application, it should look something like this:\n",
    "\n",
    "![Anaconda Navigator](./Anaconda.png)"
   ]
  },
  {
   "cell_type": "markdown",
   "id": "00b7fd78",
   "metadata": {
    "slideshow": {
     "slide_type": "slide"
    }
   },
   "source": [
    "### A couple of other things to do\n",
    "\n",
    "* You can register for an Anaconda Cload account. This allows you to run Anaconda from anywhere without requiring locally installed software. This may be useful when you're away from your computer\n",
    "\n",
    "* Figure out how you want to store your files when you're using the lab computers. You have at least two options:\n",
    "1. Bring a memory stick to store your files on removable storage\n",
    "2. Connect to your university-provided OneDrive storage and store your files there. You need to connect through the File Explorer. "
   ]
  },
  {
   "cell_type": "markdown",
   "id": "e4d12a06",
   "metadata": {
    "slideshow": {
     "slide_type": "slide"
    }
   },
   "source": [
    "## Jupyter Notebooks, what's that?\n",
    "\n",
    "You're looking at one! [Jupyter notebooks](https://jupyter.org) are \"executable\" documents that are very good for creating technical reports and presentations.\n",
    "\n",
    "To use Jupyter notebooks, select \"Launch\" from the Jupyer Notebooks cell in the Anaconda Navigator. This starts a Jupyter server in the background and then opens a window in your browser that looks like this\n",
    "\n",
    "![Jupyter Files](./JupyterFiles.png)"
   ]
  },
  {
   "cell_type": "markdown",
   "id": "f53d08a4",
   "metadata": {
    "slideshow": {
     "slide_type": "subslide"
    }
   },
   "source": [
    "### Open an existing notebook or start new one\n",
    "\n",
    "From the browser window, you can \n",
    "\n",
    "1. either open an existing notebook - notebooks have the filename extension `.ipynb`.\n",
    "2. or start a new one via the \"New\" button near the top right corner of the window."
   ]
  },
  {
   "cell_type": "markdown",
   "id": "14c5ff8d",
   "metadata": {
    "slideshow": {
     "slide_type": "slide"
    }
   },
   "source": [
    "### Let's try it out: Open a new notebook\n",
    "\n",
    "* If you haven't done so, lauch a \"Jupyter Notebook\" from the Anaconda Navigator application.\n",
    "\n",
    "* Click the \"New\" Button and select \"Python 3 (ipykernel)\" from the resulting drop-down menu.\n",
    "\n",
    "* This will create a new window that looks like this:\n",
    "\n",
    "![Jupyter Window](./JupyterWindow.png)"
   ]
  },
  {
   "cell_type": "markdown",
   "id": "86301969",
   "metadata": {
    "slideshow": {
     "slide_type": "slide"
    }
   },
   "source": [
    "### Let's Try it out: Give your notebook a name\n",
    "\n",
    "Before doing anything else, let's give this notebook a name:\n",
    "\n",
    "* from the \"File\" menu, select \"Rename...\"\n",
    "* type \"MyFirstNotebook\" into the textbox \n",
    "* then click on the \"Rename\" button.\n",
    "* This will store your notebook under the filename \"MyFirstNotebook.ipynb\".\n",
    "\n",
    "<p style=\"background-color: #e7f3fe; border-left: 6px solid #2196F3;\">\n",
    "    It is good practice to give your notebook a name as soon as poosible; otherwise you end up with a bunch of notebooks that are all name \"Untitled.ipynb\" or similar.\n",
    "</p>"
   ]
  },
  {
   "cell_type": "markdown",
   "id": "b8a5ffa6",
   "metadata": {
    "slideshow": {
     "slide_type": "slide"
    }
   },
   "source": [
    "### Let's Try it out: Create a Text (Markdown) cell\n",
    "\n",
    "Jupyter notebooks are organized as a sequence of *cells*. Most of the buttons near the top are there to let you create, delete, re-arrange cells.\n",
    "\n",
    "There are different types of cells; the most important ones are:\n",
    "* **Code** cells: contain Python code that can be executed within the browser.\n",
    "* **Markdown** cells: contain text that explains or documents the computations performed by the code. [Markdown](https://www.markdownguide.org/basic-syntax/) is a simple mark-up language that allows you to style your text.\n",
    "\n",
    "You control the type of the cell via the dropdown menu near the center of the toolbar."
   ]
  },
  {
   "cell_type": "markdown",
   "id": "0054bfb5",
   "metadata": {
    "slideshow": {
     "slide_type": "subslide"
    }
   },
   "source": [
    "* Change the type of cell to \"Markdown\" using the dropdown menu. Note that the appearance of the cell changes slightly: the prompt `In [ ]:` diappears.\n",
    "\n",
    "* Enter the following text (left aligned) into the cell:\n",
    "```\n",
    "    # My First Notebook\n",
    "\n",
    "    **Markdown** is a simple *mark-up* language. \n",
    "    It supports [web links](https://www.python.org) \n",
    "    and even nicely typeset math, like\n",
    "    $$\n",
    "        e^{i \\pi} + 1 = 0.\n",
    "    $$\n",
    "```\n",
    "* Then,\n",
    "  + either click the \"Run\" button in the menu bar\n",
    "  + or type \"Shift\" and \"Enter\" simultaneosuly\n",
    "* Either way, the Markdown text is typeset and a new cell is created."
   ]
  },
  {
   "cell_type": "markdown",
   "id": "eb647212",
   "metadata": {
    "slideshow": {
     "slide_type": "subslide"
    }
   },
   "source": [
    "It should look like this:\n",
    "\n",
    "![Markdown Cell](./MarkdownCell.png)"
   ]
  },
  {
   "cell_type": "markdown",
   "id": "50054f23",
   "metadata": {},
   "source": [
    "# Python Basics"
   ]
  },
  {
   "cell_type": "code",
   "execution_count": 2,
   "id": "7551be91",
   "metadata": {},
   "outputs": [
    {
     "name": "stdout",
     "output_type": "stream",
     "text": [
      "My name is: Jane Doe\n"
     ]
    }
   ],
   "source": [
    "# Example code 1\n",
    "Your_Name = \"Jane Doe\"\n",
    "print(\"My name is:\", Your_Name)"
   ]
  },
  {
   "cell_type": "markdown",
   "id": "bc31e7e0",
   "metadata": {},
   "source": [
    "**Code Description**\n",
    "\n",
    "In Python and other programming languages, we use variables to store values. For our example, `Your_Name` serves as the variable that stores your name. Also, the value stored in the `Your_Name` can be any value of any data type. We have data types such as integers, floats, strings, boolean etc. Strings are always enclosed in quotation marks.\n",
    "\n",
    "In Python, you can display text on the screen using the `print()` function. Let's start by printing your name."
   ]
  },
  {
   "cell_type": "markdown",
   "id": "d26c9176",
   "metadata": {},
   "source": [
    "**Exercise**\n",
    "\n",
    "Replace the `Your_Name` content to your first and last name"
   ]
  },
  {
   "cell_type": "code",
   "execution_count": 4,
   "id": "8187d019",
   "metadata": {},
   "outputs": [
    {
     "name": "stdout",
     "output_type": "stream",
     "text": [
      "22.5\n"
     ]
    }
   ],
   "source": [
    "# Example code 2\n",
    "a = 4.5\n",
    "b = a * 4\n",
    "c = a + b\n",
    "print(c)"
   ]
  },
  {
   "cell_type": "markdown",
   "id": "71ece5d8",
   "metadata": {
    "slideshow": {
     "slide_type": "slide"
    }
   },
   "source": [
    "## Competency Check\n",
    "\n",
    "At the end of each of the foundational labs, you will be asked to complete a brief programming assignment intended to check that you have understood the ideas from that lab.\n",
    "\n",
    "These programming assignments are submitted through [Gradescope](https://www.gradescope.com) where they will be checked for correctness (more or less) immediately. You can resubmit as often as you like.\n",
    "\n",
    "### Today's assignment\n",
    "\n",
    "Your first assignment is very easy:\n",
    "* Write a Python script `student.py` using either spyder or VSCode.\n",
    "  + Make sure that your file is named `student.py` or your submission will be deemed incomplete.\n",
    "  + Your script must produce a numeric output when it is executed.\n",
    " \n",
    "The final grade in the course is based on our best assessment of your understanding of the material and the quality of your work during the semester. Assignments are combined with the following rough weighting to give\n",
    "a preliminary final grade:\n",
    "\n",
    "We have the following scores. Compute the final weighted score.\n",
    "\n",
    "\n",
    "* **in_class_exercises** = 90\n",
    "* **read_review_reflect** = 85\n",
    "* **problem_sets** = [70, 80, 90, 85]\n",
    "* **lab_grade** = 88\n",
    "* **in_class_quizzes** = [75, 80, 85, 90]\n",
    "* **midterm** = 78\n",
    "* **final_exam** = 92\n",
    "\n",
    "Hints:\n",
    "  + in cases of \"lowest score will be dropped, take out the lowest score and compute the mean of the remaining scores.\n",
    "  \n",
    "  \n",
    "Upload this Python script through Gradescope.\n",
    "  + you should have received an email from gradescope regarding your account.\n",
    "Gradescope will let you know if your script passes its test.\n",
    "  + if necessary, make changes and upload again."
   ]
  },
  {
   "cell_type": "markdown",
   "id": "96a0f041",
   "metadata": {},
   "source": [
    "**Submission is due tomorrow by 6:30 pm**"
   ]
  }
 ],
 "metadata": {
  "celltoolbar": "Slideshow",
  "kernelspec": {
   "display_name": "Python 3 (ipykernel)",
   "language": "python",
   "name": "python3"
  },
  "language_info": {
   "codemirror_mode": {
    "name": "ipython",
    "version": 3
   },
   "file_extension": ".py",
   "mimetype": "text/x-python",
   "name": "python",
   "nbconvert_exporter": "python",
   "pygments_lexer": "ipython3",
   "version": "3.11.3"
  }
 },
 "nbformat": 4,
 "nbformat_minor": 5
}
