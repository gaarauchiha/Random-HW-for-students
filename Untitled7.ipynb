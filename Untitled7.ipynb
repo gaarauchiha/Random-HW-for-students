{
 "cells": [
  {
   "cell_type": "code",
   "execution_count": 3,
   "id": "8736df74",
   "metadata": {},
   "outputs": [],
   "source": [
    "def remove_outliers(nu_list,nu_outliers):\n",
    "    temp_lst = sorted(nu_list)\n",
    "    for i in range(nu_outliers):\n",
    "        temp_lst.pop()\n",
    "    for i in range(nu_outliers):\n",
    "        temp_lst.pop(0)\n",
    "        \n",
    "    return temp_lst"
   ]
  },
  {
   "cell_type": "code",
   "execution_count": 5,
   "id": "c7cb532a",
   "metadata": {},
   "outputs": [
    {
     "name": "stdout",
     "output_type": "stream",
     "text": [
      "[2, 3, 4, 5, 8]\n"
     ]
    }
   ],
   "source": [
    "nu_list=[1,4,9,2,5,8,3,19,-1]\n",
    "nu_outliers=2\n",
    "\n",
    "if len(nu_list) < 2*nu_outliers:\n",
    "    print(f'There are not enough elements in the list such that {2*nu_outliers} can be removed')\n",
    "elif len(nu_list) == 2*nu_outliers:\n",
    "    print(list())\n",
    "else:\n",
    "    print(remove_outliers(nu_list,nu_outliers))\n",
    "    \n"
   ]
  },
  {
   "cell_type": "code",
   "execution_count": 6,
   "id": "a07eb72c",
   "metadata": {},
   "outputs": [
    {
     "name": "stdout",
     "output_type": "stream",
     "text": [
      "Modified list: [None, 4, None, 2, 5, 8, 3, None, None]\n",
      "Original list: [1, 4, 9, 2, 5, 8, 3, 19, -1]\n"
     ]
    }
   ],
   "source": [
    "def replace_outliers_with_none(num_list, num_outliers):\n",
    "    if len(num_list) < 2 * num_outliers:\n",
    "        raise ValueError(f'There are not enough elements in the list such that {2 * num_outliers} can be removed')\n",
    "\n",
    "    # Create a sorted copy of the list\n",
    "    sorted_list = sorted(num_list)\n",
    "    \n",
    "    # Identify outliers\n",
    "    smallest_outliers = sorted_list[:num_outliers]\n",
    "    largest_outliers = sorted_list[-num_outliers:]\n",
    "    \n",
    "    # Replace outliers in the original list with None\n",
    "    new_list = []\n",
    "    for num in num_list:\n",
    "        if num in smallest_outliers:\n",
    "            new_list.append(None)\n",
    "            smallest_outliers.remove(num)\n",
    "        elif num in largest_outliers:\n",
    "            new_list.append(None)\n",
    "            largest_outliers.remove(num)\n",
    "        else:\n",
    "            new_list.append(num)\n",
    "    \n",
    "    return new_list\n",
    "\n",
    "# Example usage\n",
    "num_list = [1, 4, 9, 2, 5, 8, 3, 19, -1]\n",
    "num_outliers = 2\n",
    "\n",
    "try:\n",
    "    result = replace_outliers_with_none(num_list, num_outliers)\n",
    "    print(\"Modified list:\", result)\n",
    "    print(\"Original list:\", num_list)\n",
    "except ValueError as e:\n",
    "    print(e)"
   ]
  },
  {
   "cell_type": "code",
   "execution_count": 7,
   "id": "cd62b3b8",
   "metadata": {},
   "outputs": [
    {
     "name": "stdout",
     "output_type": "stream",
     "text": [
      "Modified list: [None, 4, None, 2, 5, 8, 3, None, None]\n",
      "Original list: [1, 4, 9, 2, 5, 8, 3, 19, -1]\n"
     ]
    }
   ],
   "source": [
    "def Question_1(num_list, num_outliers):\n",
    "    if len(num_list) < 2 * num_outliers:\n",
    "        raise ValueError(f'There are not enough elements in the list such that {2 * num_outliers} can be removed')\n",
    "\n",
    "    # Sort the list to find smallest and largest values\n",
    "    sorted_list = sorted(num_list)\n",
    "    \n",
    "    # Get the smallest and largest outliers\n",
    "    smallest_outliers = sorted_list[:num_outliers]\n",
    "    largest_outliers = sorted_list[-num_outliers:]\n",
    "    \n",
    "    # Replace outliers in the original list with None\n",
    "    new_list = []\n",
    "    for num in num_list:\n",
    "        if num in smallest_outliers:\n",
    "            new_list.append(None)\n",
    "            smallest_outliers.remove(num)  # Ensure we only replace the exact number of outliers\n",
    "        elif num in largest_outliers:\n",
    "            new_list.append(None)\n",
    "            largest_outliers.remove(num)\n",
    "        else:\n",
    "            new_list.append(num)\n",
    "    \n",
    "    return new_list\n",
    "\n",
    "# Example usage\n",
    "num_list = [1, 4, 9, 2, 5, 8, 3, 19, -1]\n",
    "num_outliers = 2\n",
    "\n",
    "try:\n",
    "    result = Question_1(num_list, num_outliers)\n",
    "    print(\"Modified list:\", result)\n",
    "    print(\"Original list:\", num_list)\n",
    "except ValueError as e:\n",
    "    print(e)"
   ]
  },
  {
   "cell_type": "code",
   "execution_count": null,
   "id": "3c419b30",
   "metadata": {},
   "outputs": [],
   "source": []
  }
 ],
 "metadata": {
  "kernelspec": {
   "display_name": "Python 3 (ipykernel)",
   "language": "python",
   "name": "python3"
  },
  "language_info": {
   "codemirror_mode": {
    "name": "ipython",
    "version": 3
   },
   "file_extension": ".py",
   "mimetype": "text/x-python",
   "name": "python",
   "nbconvert_exporter": "python",
   "pygments_lexer": "ipython3",
   "version": "3.11.3"
  }
 },
 "nbformat": 4,
 "nbformat_minor": 5
}
