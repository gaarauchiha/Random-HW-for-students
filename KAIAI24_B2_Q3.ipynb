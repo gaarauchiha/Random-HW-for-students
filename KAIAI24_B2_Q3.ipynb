{
  "nbformat": 4,
  "nbformat_minor": 0,
  "metadata": {
    "colab": {
      "provenance": []
    },
    "kernelspec": {
      "name": "python3",
      "display_name": "Python 3"
    },
    "language_info": {
      "name": "python"
    }
  },
  "cells": [
    {
      "cell_type": "markdown",
      "source": [
        "## Task: Train an EMNIST classifier\n",
        "\n",
        "EMNIST (or extended MNIST) is just like MNIST, a bunch of handwritten images, except instead of just digits (0-9) it also has uppercase and lowercase characters.\n",
        "\n",
        "You are provided with the code to load the EMNIST train and split **datasets**\n",
        "\n",
        "Write and train a classifier for EMNIST. Make sure to\n",
        "\n",
        "- Show how your loss(es) dropped during training.\n",
        "- Show final performance of your model on untrained data.\n",
        "- Maintain good code quality."
      ],
      "metadata": {
        "id": "zemWtDr8gVOf"
      }
    },
    {
      "cell_type": "code",
      "source": [
        "import torch\n",
        "import torch.nn as nn\n",
        "import torch.optim as optim\n",
        "\n",
        "import matplotlib.pyplot as plt\n",
        "import numpy as np\n",
        "\n",
        "import torchvision\n",
        "from sklearn.metrics import accuracy_score\n",
        "from torchvision.datasets import EMNIST\n",
        "import torchvision.transforms.functional as F\n",
        "import torch.nn.functional as F\n",
        "from torchvision import transforms\n",
        "from torch.utils.data import DataLoader, Subset"
      ],
      "metadata": {
        "id": "4GQMlmw2hwbn"
      },
      "execution_count": 16,
      "outputs": []
    },
    {
      "cell_type": "code",
      "source": [
        "train_data = EMNIST(root='emnist_data/', split='byclass', download=True)\n",
        "test_data = EMNIST(root='emnist_data/', split='byclass', download=True, train=False)"
      ],
      "metadata": {
        "id": "InCfHKZme7ga",
        "colab": {
          "base_uri": "https://localhost:8080/"
        },
        "outputId": "5f509bd5-afd5-4460-f48e-fb481c3523ab"
      },
      "execution_count": 2,
      "outputs": [
        {
          "output_type": "stream",
          "name": "stdout",
          "text": [
            "Downloading https://www.itl.nist.gov/iaui/vip/cs_links/EMNIST/gzip.zip to emnist_data/EMNIST/raw/gzip.zip\n"
          ]
        },
        {
          "output_type": "stream",
          "name": "stderr",
          "text": [
            "100%|██████████| 561753746/561753746 [00:08<00:00, 62688884.42it/s]\n"
          ]
        },
        {
          "output_type": "stream",
          "name": "stdout",
          "text": [
            "Extracting emnist_data/EMNIST/raw/gzip.zip to emnist_data/EMNIST/raw\n"
          ]
        }
      ]
    },
    {
      "cell_type": "code",
      "source": [
        "# This cell is for demo purposes. feel free to remove it if you want.\n",
        "print('Number of classes in dataset:', len(train_data.classes))\n",
        "print('Unique labels:', train_data.classes)\n",
        "\n",
        "demo_img, demo_label = train_data[10]\n",
        "\n",
        "print(demo_label)\n",
        "torchvision.transforms.functional.resize(demo_img, (255, 255))"
      ],
      "metadata": {
        "colab": {
          "base_uri": "https://localhost:8080/",
          "height": 344
        },
        "id": "udb4rY5Vhaau",
        "outputId": "ac0daf61-004a-4ace-c8c1-16b62da89429"
      },
      "execution_count": 3,
      "outputs": [
        {
          "output_type": "stream",
          "name": "stdout",
          "text": [
            "Number of classes in dataset: 62\n",
            "Unique labels: ['0', '1', '2', '3', '4', '5', '6', '7', '8', '9', 'A', 'B', 'C', 'D', 'E', 'F', 'G', 'H', 'I', 'J', 'K', 'L', 'M', 'N', 'O', 'P', 'Q', 'R', 'S', 'T', 'U', 'V', 'W', 'X', 'Y', 'Z', 'a', 'b', 'c', 'd', 'e', 'f', 'g', 'h', 'i', 'j', 'k', 'l', 'm', 'n', 'o', 'p', 'q', 'r', 's', 't', 'u', 'v', 'w', 'x', 'y', 'z']\n",
            "7\n"
          ]
        },
        {
          "output_type": "execute_result",
          "data": {
            "text/plain": [
              "<PIL.Image.Image image mode=L size=255x255>"
            ],
            "image/png": "[encoded data removed]"
          },
          "metadata": {},
          "execution_count": 3
        }
      ]
    },
    {
      "cell_type": "code",
      "source": [
        "# Transformations for the EMNIST dataset\n",
        "transform = transforms.Compose([\n",
        "    transforms.ToTensor(),\n",
        "])\n",
        "\n",
        "# Load the datasets\n",
        "train_data = EMNIST(root='emnist_data/', split='byclass', train=True, download=True, transform=transform)\n",
        "test_data = EMNIST(root='emnist_data/', split='byclass', train=False, download=True, transform=transform)\n",
        "\n",
        "# Define the size of the subset as a fraction of the original dataset\n",
        "subset_fraction = 0.1 ## You can play with this to get a bigger or smaller subset\n",
        "\n",
        "# Create indices for the training subset\n",
        "train_indices = np.random.choice(len(train_data), int(len(train_data) * subset_fraction), replace=False)\n",
        "\n",
        "# Create the training subset\n",
        "train_subset = Subset(train_data, train_indices)\n",
        "\n",
        "# For the test set, you can do the same or use the full test set\n",
        "test_indices = np.random.choice(len(test_data), int(len(test_data) * subset_fraction), replace=False)\n",
        "test_subset = Subset(test_data, test_indices)\n",
        "\n",
        "# Check the size of the subset\n",
        "print(f\"Training subset size: {len(train_subset)}\")\n",
        "print(f\"Test subset size: {len(test_subset)}\")\n",
        "\n",
        "# Define the DataLoaders\n",
        "train_loader = DataLoader(train_subset, batch_size=32, shuffle=True)\n",
        "test_loader = DataLoader(test_subset, batch_size=32, shuffle=False)"
      ],
      "metadata": {
        "id": "Ia6MAyxqhiAi",
        "colab": {
          "base_uri": "https://localhost:8080/"
        },
        "outputId": "925b8dd0-d24b-4453-efce-ed4fdfa4eeb3"
      },
      "execution_count": 4,
      "outputs": [
        {
          "output_type": "stream",
          "name": "stdout",
          "text": [
            "Training subset size: 69793\n",
            "Test subset size: 11632\n"
          ]
        }
      ]
    },
    {
      "cell_type": "code",
      "source": [
        "print(train_data.data.shape)\n",
        "print(train_data.targets.shape)\n",
        "print(\"Number of classes: \", len(train_data.classes))"
      ],
      "metadata": {
        "id": "xIKDtoVzTzcn",
        "outputId": "65ab583b-8529-49cf-b6a4-7978bf65f74f",
        "colab": {
          "base_uri": "https://localhost:8080/"
        }
      },
      "execution_count": 5,
      "outputs": [
        {
          "output_type": "stream",
          "name": "stdout",
          "text": [
            "torch.Size([697932, 28, 28])\n",
            "torch.Size([697932])\n",
            "Number of classes:  62\n"
          ]
        }
      ]
    },
    {
      "cell_type": "code",
      "source": [
        "device = torch.device(\"cuda:0\" if torch.cuda.is_available() else \"cpu\")\n",
        "\n",
        "train_data.data = train_data.data.reshape(-1,28*28)\n",
        "test_data.data = test_data.data.reshape(-1,28*28)\n",
        "\n",
        "import pandas as pd\n",
        "from sklearn.model_selection import StratifiedKFold\n",
        "\n",
        "folds = pd.Series(0,index=pd.Series(train_data.targets.numpy()).index)\n",
        "Fold = StratifiedKFold(n_splits=3, shuffle=True, random_state=42)\n",
        "for n, (train_index, val_index) in enumerate(Fold.split(train_data.data.numpy(), train_data.targets.numpy())):\n",
        "    folds[val_index] = int(n)\n",
        "\n",
        "# Model Arch.\n",
        "class Model(nn.Module):\n",
        "\n",
        "  def __init__(self, num_inp, num_out):\n",
        "\n",
        "    super(Model, self).__init__()\n",
        "\n",
        "    self.layer_1 = nn.Linear(num_inp, 512)\n",
        "    self.layer_2 = nn.Linear(512, 256)\n",
        "    self.layer_3 = nn.Linear(256, 128)\n",
        "    self.layer_4 = nn.Linear(128, 32)\n",
        "    self.layer_5 = nn.Linear(32, num_out)\n",
        "\n",
        "    self.hidden_activation = nn.ReLU()\n",
        "    self.softmax = nn.Softmax(dim=1)\n",
        "\n",
        "  def forward(self, x):\n",
        "\n",
        "    x = self.layer_1(x)\n",
        "    x = self.hidden_activation(x)\n",
        "\n",
        "    x = self.layer_2(x)\n",
        "    x = self.hidden_activation(x)\n",
        "\n",
        "    x = self.layer_3(x)\n",
        "    x = self.hidden_activation(x)\n",
        "\n",
        "    x = self.layer_4(x)\n",
        "    x = self.hidden_activation(x)\n",
        "\n",
        "    x = self.layer_5(x)\n",
        "    x = self.softmax(x)\n",
        "\n",
        "    return x\n"
      ],
      "metadata": {
        "id": "9IRDhV6RX3xo"
      },
      "execution_count": 10,
      "outputs": []
    },
    {
      "cell_type": "code",
      "source": [],
      "metadata": {
        "id": "gvCzs4V8o4cj"
      },
      "execution_count": null,
      "outputs": []
    },
    {
      "cell_type": "code",
      "source": [
        "# Training loop + validation\n",
        "import numpy as np\n",
        "from tqdm import tqdm\n",
        "def train_fn(fold, train_loader, model, criterion, optimizer, epoch, device):\n",
        "    model.train()\n",
        "    losses = []\n",
        "    for step, (inputs, labels) in tqdm(enumerate(train_loader)):\n",
        "        inputs = inputs.to(device)\n",
        "        labels = labels.to(device)\n",
        "\n",
        "        batch_size = labels.size(0)\n",
        "        y_preds = model(inputs)\n",
        "        loss = criterion(y_preds, labels)\n",
        "\n",
        "        optimizer.zero_grad()\n",
        "        loss.backward()\n",
        "        optimizer.step()\n",
        "\n",
        "        losses.append(loss)\n",
        "    return losses\n",
        "\n",
        "\n",
        "def valid_fn(valid_loader, model, criterion, device):\n",
        "    model.eval()\n",
        "    preds = []\n",
        "    losses = []\n",
        "    for step, (inputs, labels) in tqdm(enumerate(valid_loader)):\n",
        "\n",
        "        inputs = inputs.to(device)\n",
        "        labels = labels.to(device)\n",
        "        batch_size = labels.size(0)\n",
        "        with torch.no_grad():\n",
        "            y_preds = model(inputs)\n",
        "            loss = criterion(y_preds, labels)\n",
        "        preds.append(y_preds.to('cpu').numpy())\n",
        "        losses.append(loss)\n",
        "    predictions = np.concatenate(preds)\n",
        "    return losses, predictions"
      ],
      "metadata": {
        "id": "2bcfXvSXYRFD"
      },
      "execution_count": 11,
      "outputs": []
    },
    {
      "cell_type": "code",
      "source": [
        "from torch.utils.data import Dataset\n",
        "\n",
        "class MyDataset(Dataset):\n",
        "    def __init__(self, X, y):\n",
        "        self.inputs = X.numpy()\n",
        "        self.labels = y.numpy()\n",
        "        self.length = len(X)\n",
        "\n",
        "    def __len__(self):\n",
        "        return self.length\n",
        "\n",
        "    def __getitem__(self, item):\n",
        "        inputs = torch.tensor(self.inputs[item], dtype=torch.float)\n",
        "        label = torch.tensor(self.labels[item])\n",
        "        return inputs, label\n"
      ],
      "metadata": {
        "id": "RLdLmjiRYZcJ"
      },
      "execution_count": 14,
      "outputs": []
    },
    {
      "cell_type": "code",
      "source": [
        "criterion = torch.nn.CrossEntropyLoss()\n",
        "avg_losses = []\n",
        "val_avg_losses = []\n",
        "test_score = []   # We will calculate the performance on the test set by training the model 3 times and predict the test 3 times then average the accuracy\n",
        "for fold in [0,1,2]:\n",
        "    print(f\"Fold: {fold}\")\n",
        "\n",
        "    # Prepare the datasets\n",
        "    train_folds = folds[folds != fold].index\n",
        "    train_folds = train_data.data[train_folds]\n",
        "    valid_folds = folds[folds == fold].index\n",
        "    valid_folds = train_data.data[valid_folds]\n",
        "\n",
        "    train_dataset = MyDataset(X=train_folds,y=train_data.targets[folds[folds != fold].index])\n",
        "    valid_dataset = MyDataset(X=valid_folds,y=train_data.targets[folds[folds == fold].index])\n",
        "    test_dataset = MyDataset(X=test_data.data,y=test_data.targets)\n",
        "\n",
        "    train_loader = DataLoader(train_dataset,\n",
        "                              batch_size=256,\n",
        "                              shuffle=True,\n",
        "                              num_workers=2, pin_memory=True, drop_last=True)\n",
        "    valid_loader = DataLoader(valid_dataset,\n",
        "                              batch_size=256,\n",
        "                              shuffle=False,\n",
        "                              num_workers=2, pin_memory=True, drop_last=False)\n",
        "    test_loader = DataLoader(test_dataset,\n",
        "                              batch_size=256,\n",
        "                              shuffle=False,\n",
        "                              num_workers=2, pin_memory=True, drop_last=False)\n",
        "\n",
        "\n",
        "    # Define the model with 62 outputs\n",
        "    model = Model(28*28, 62).to(device)\n",
        "\n",
        "    # Define the optimizer\n",
        "    num_epochs = 10\n",
        "    lr = 1e-4\n",
        "    optimizer = torch.optim.AdamW(model.parameters(), lr=lr)  # Adam with Weight Decay\n",
        "\n",
        "\n",
        "    # Train for the number of epochs, and in each one, calculate the validation and testing predictions\n",
        "    for epoch in range(num_epochs):\n",
        "\n",
        "        # train\n",
        "        loss = train_fn(fold, train_loader, model, criterion, optimizer, epoch, device)\n",
        "\n",
        "        # eval\n",
        "        val_loss, predictions = valid_fn(valid_loader, model, criterion, device)\n",
        "\n",
        "        # Test set score\n",
        "        _, test_predictions = valid_fn(test_loader, model, criterion, device)\n",
        "\n",
        "        # Track losses\n",
        "        avg_losses.append(np.mean([x.detach().cpu() for x in loss]))\n",
        "        val_avg_losses.append(np.mean([x.detach().cpu() for x in val_loss]))\n",
        "\n",
        "    # scoring\n",
        "    print(f\"Fold {fold+1}: Validation Score: \", accuracy_score(train_data.targets[folds[folds == fold].index].numpy(),predictions.argmax(axis=1)))  # Calculate accuracy for validation\n",
        "    test_score.append(accuracy_score(test_data.targets.numpy(),test_predictions.argmax(axis=1)))  # Store accuracy for test\n",
        "\n",
        "print(\"\\nTest set Accuracy: \",np.mean(test_score))  # Print test set score"
      ],
      "metadata": {
        "id": "8OfcIZPjZWAL",
        "outputId": "af58fa71-3236-4ef5-ccee-a2c7f4d10b8e",
        "colab": {
          "base_uri": "https://localhost:8080/"
        }
      },
      "execution_count": 17,
      "outputs": [
        {
          "output_type": "stream",
          "name": "stdout",
          "text": [
            "Fold: 0\n"
          ]
        },
        {
          "output_type": "stream",
          "name": "stderr",
          "text": [
            "1817it [00:58, 31.10it/s]\n",
            "909it [00:14, 62.58it/s]\n",
            "455it [00:08, 54.43it/s]\n",
            "1817it [00:58, 31.17it/s]\n",
            "909it [00:14, 60.62it/s]\n",
            "455it [00:08, 55.77it/s]\n",
            "1817it [01:00, 30.05it/s]\n",
            "909it [00:15, 58.26it/s]\n",
            "455it [00:06, 68.83it/s]\n",
            "1817it [01:06, 27.40it/s]\n",
            "909it [00:14, 62.94it/s]\n",
            "455it [00:06, 69.34it/s]\n",
            "1817it [00:57, 31.54it/s]\n",
            "909it [00:17, 52.73it/s]\n",
            "455it [00:06, 68.21it/s]\n",
            "1817it [00:58, 30.99it/s]\n",
            "909it [00:14, 61.78it/s]\n",
            "455it [00:06, 66.95it/s]\n",
            "1817it [00:56, 32.01it/s]\n",
            "909it [00:14, 64.86it/s]\n",
            "455it [00:09, 45.54it/s]\n",
            "1817it [00:59, 30.36it/s]\n",
            "909it [00:14, 62.96it/s]\n",
            "455it [00:08, 54.63it/s]\n",
            "1817it [00:58, 30.93it/s]\n",
            "909it [00:14, 61.99it/s]\n",
            "455it [00:07, 57.33it/s]\n",
            "1817it [01:00, 30.10it/s]\n",
            "909it [00:14, 60.75it/s]\n",
            "455it [00:08, 53.69it/s]\n"
          ]
        },
        {
          "output_type": "stream",
          "name": "stdout",
          "text": [
            "Fold 1: Validation Score:  0.5528403913275218\n",
            "Fold: 1\n"
          ]
        },
        {
          "output_type": "stream",
          "name": "stderr",
          "text": [
            "1817it [01:00, 30.10it/s]\n",
            "909it [00:14, 62.55it/s]\n",
            "455it [00:06, 70.98it/s]\n",
            "1817it [00:58, 31.06it/s]\n",
            "909it [00:13, 66.55it/s]\n",
            "455it [00:08, 56.08it/s]\n",
            "1817it [00:56, 32.02it/s]\n",
            "909it [00:13, 67.09it/s]\n",
            "455it [00:07, 64.33it/s]\n",
            "1817it [00:58, 30.81it/s]\n",
            "909it [00:13, 66.63it/s]\n",
            "455it [00:06, 72.90it/s]\n",
            "1817it [00:58, 30.98it/s]\n",
            "909it [00:13, 67.95it/s]\n",
            "455it [00:06, 68.36it/s]\n",
            "1817it [00:56, 31.91it/s]\n",
            "909it [00:13, 66.28it/s]\n",
            "455it [00:09, 48.77it/s]\n",
            "1817it [00:57, 31.58it/s]\n",
            "909it [00:14, 63.65it/s]\n",
            "455it [00:07, 59.38it/s]\n",
            "1817it [00:56, 32.13it/s]\n",
            "909it [00:14, 63.87it/s]\n",
            "455it [00:06, 71.12it/s]\n",
            "1817it [01:00, 30.04it/s]\n",
            "909it [00:14, 61.71it/s]\n",
            "455it [00:05, 76.38it/s]\n",
            "1817it [00:59, 30.61it/s]\n",
            "909it [00:14, 63.53it/s]\n",
            "455it [00:06, 72.82it/s]\n"
          ]
        },
        {
          "output_type": "stream",
          "name": "stdout",
          "text": [
            "Fold 2: Validation Score:  0.6106239576348412\n",
            "Fold: 2\n"
          ]
        },
        {
          "output_type": "stream",
          "name": "stderr",
          "text": [
            "1817it [00:56, 32.01it/s]\n",
            "909it [00:15, 59.82it/s]\n",
            "455it [00:06, 69.31it/s]\n",
            "1817it [00:57, 31.70it/s]\n",
            "909it [00:14, 62.73it/s]\n",
            "455it [00:08, 54.99it/s]\n",
            "1817it [00:57, 31.76it/s]\n",
            "909it [00:16, 56.14it/s]\n",
            "455it [00:08, 51.35it/s]\n",
            "1817it [00:58, 31.21it/s]\n",
            "909it [00:15, 60.54it/s]\n",
            "455it [00:09, 49.93it/s]\n",
            "1817it [00:58, 31.17it/s]\n",
            "909it [00:14, 62.44it/s]\n",
            "455it [00:10, 44.12it/s]\n",
            "1817it [00:59, 30.57it/s]\n",
            "909it [00:13, 65.84it/s]\n",
            "455it [00:08, 56.39it/s]\n",
            "1817it [00:59, 30.66it/s]\n",
            "909it [00:13, 65.81it/s]\n",
            "455it [00:08, 53.74it/s]\n",
            "1817it [01:00, 30.18it/s]\n",
            "909it [00:14, 64.36it/s]\n",
            "455it [00:13, 33.05it/s]\n",
            "1817it [01:02, 29.22it/s]\n",
            "909it [00:14, 64.67it/s]\n",
            "455it [00:06, 72.48it/s]\n",
            "1817it [01:02, 28.90it/s]\n",
            "909it [00:13, 65.76it/s]\n",
            "455it [00:06, 73.37it/s]\n"
          ]
        },
        {
          "output_type": "stream",
          "name": "stdout",
          "text": [
            "Fold 3: Validation Score:  0.5567175598768934\n",
            "\n",
            "Test set Accuracy:  0.5749966329387424\n"
          ]
        }
      ]
    },
    {
      "cell_type": "code",
      "source": [
        "plt.plot(avg_losses[20:30], label='Loss(TRAIN)')\n",
        "plt.plot(val_avg_losses[20:30], label='Loss(Validation)')\n",
        "plt.xlabel('#EPOCH')\n",
        "plt.ylabel('Loss (Cross Entropy)')\n",
        "plt.legend()\n",
        "plt.show()"
      ],
      "metadata": {
        "id": "kSW4R9Fbnkgx",
        "outputId": "fb7578b1-6de6-4a2d-a813-94385f7073cc",
        "colab": {
          "base_uri": "https://localhost:8080/",
          "height": 449
        }
      },
      "execution_count": 20,
      "outputs": [
        {
          "output_type": "display_data",
          "data": {
            "text/plain": [
              "<Figure size 640x480 with 1 Axes>"
            ],
            "image/png": "[encoded data removed]"
          },
          "metadata": {}
        }
      ]
    }
  ]
}