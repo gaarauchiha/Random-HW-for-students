{
 "cells": [
  {
   "cell_type": "code",
   "execution_count": 7,
   "id": "daab26f1",
   "metadata": {},
   "outputs": [],
   "source": [
    "def findSmallestIndex(nums, target):\n",
    "    n = len(nums)\n",
    "    if n <= 1:\n",
    "        return -1\n",
    "    min_after = nums[-1]\n",
    "    result = -1\n",
    "    for i in range(n - 2, -1, -1):\n",
    "        if min_after > target:\n",
    "            result = i\n",
    "        min_after = min(min_after, nums[i])\n",
    "    return result"
   ]
  }
 ],
 "metadata": {
  "kernelspec": {
   "display_name": "Python 3 (ipykernel)",
   "language": "python",
   "name": "python3"
  },
  "language_info": {
   "codemirror_mode": {
    "name": "ipython",
    "version": 3
   },
   "file_extension": ".py",
   "mimetype": "text/x-python",
   "name": "python",
   "nbconvert_exporter": "python",
   "pygments_lexer": "ipython3",
   "version": "3.11.3"
  }
 },
 "nbformat": 4,
 "nbformat_minor": 5
}
