{
 "cells": [
  {
   "cell_type": "code",
   "execution_count": 1,
   "id": "8053c4f0",
   "metadata": {},
   "outputs": [
    {
     "name": "stdout",
     "output_type": "stream",
     "text": [
      "r:  3775465511\n",
      "p:  7370832533\n",
      "q:  1960942817\n",
      "m:  54569752087732116546706015571\n"
     ]
    }
   ],
   "source": [
    "import random\n",
    "from sympy import nextprime\n",
    "\n",
    "def generate_number():\n",
    "    return random.randint(10**9, 10**10 - 1)\n",
    "\n",
    "def generate_prime():\n",
    "    num = generate_number()\n",
    "    return nextprime(num)\n",
    "\n",
    "r = generate_prime()\n",
    "p = generate_prime()\n",
    "q = generate_prime()\n",
    "\n",
    "print(\"r: \", r)\n",
    "print(\"p: \", p)\n",
    "print(\"q: \", q)\n",
    "\n",
    "m = r * p * q\n",
    "print(\"m: \", m)\n"
   ]
  },
  {
   "cell_type": "code",
   "execution_count": 2,
   "id": "9d65d17f",
   "metadata": {},
   "outputs": [
    {
     "name": "stdout",
     "output_type": "stream",
     "text": [
      "phi:  54569752038046539458592037120\n"
     ]
    }
   ],
   "source": [
    "phi_m = (r-1)*(p-1)*(q-1)\n",
    "print(\"phi: \", phi_m)"
   ]
  },
  {
   "cell_type": "code",
   "execution_count": 4,
   "id": "6019bd5c",
   "metadata": {},
   "outputs": [
    {
     "name": "stdout",
     "output_type": "stream",
     "text": [
      "e:  51359073654377080639\n"
     ]
    }
   ],
   "source": [
    "from sympy import nextprime, gcd, totient\n",
    "\n",
    "while True:\n",
    "    e = random.randint(10**19, 10**20 - 1)\n",
    "    if gcd(e, phi_m) == 1:\n",
    "        break\n",
    "print(\"e: \", e)"
   ]
  },
  {
   "cell_type": "code",
   "execution_count": 6,
   "id": "b16f2147",
   "metadata": {},
   "outputs": [
    {
     "name": "stdout",
     "output_type": "stream",
     "text": [
      "Encrypted message:  42513989750296714834083559921\n"
     ]
    }
   ],
   "source": [
    "def encrypt(x, e, m):\n",
    "    return pow(x, e, m)\n",
    "\n",
    "x = 2  \n",
    "encrypted_message = encrypt(x, e, m)\n",
    "\n",
    "print(\"Encrypted message: \", encrypted_message)"
   ]
  },
  {
   "cell_type": "code",
   "execution_count": 7,
   "id": "517c9d8a",
   "metadata": {},
   "outputs": [
    {
     "name": "stdout",
     "output_type": "stream",
     "text": [
      "d:  52531697012025704632477997759\n"
     ]
    }
   ],
   "source": [
    "from sympy import nextprime, gcd, totient, mod_inverse\n",
    "\n",
    "d = mod_inverse(e, phi_m)\n",
    "print(\"d: \", d)"
   ]
  },
  {
   "cell_type": "code",
   "execution_count": 8,
   "id": "cf33db68",
   "metadata": {},
   "outputs": [],
   "source": [
    "def decrypt(y, d, m):\n",
    "    return pow(y, d, m)"
   ]
  },
  {
   "cell_type": "code",
   "execution_count": 10,
   "id": "47d10b1f",
   "metadata": {},
   "outputs": [
    {
     "name": "stdout",
     "output_type": "stream",
     "text": [
      "Decrypted message:  2\n"
     ]
    }
   ],
   "source": [
    "decrypted_message = decrypt(encrypted_message, d, m)\n",
    "print(\"Decrypted message: \", decrypted_message)"
   ]
  },
  {
   "cell_type": "code",
   "execution_count": null,
   "id": "8ad32cac",
   "metadata": {},
   "outputs": [],
   "source": []
  }
 ],
 "metadata": {
  "kernelspec": {
   "display_name": "Python 3 (ipykernel)",
   "language": "python",
   "name": "python3"
  },
  "language_info": {
   "codemirror_mode": {
    "name": "ipython",
    "version": 3
   },
   "file_extension": ".py",
   "mimetype": "text/x-python",
   "name": "python",
   "nbconvert_exporter": "python",
   "pygments_lexer": "ipython3",
   "version": "3.11.3"
  }
 },
 "nbformat": 4,
 "nbformat_minor": 5
}
