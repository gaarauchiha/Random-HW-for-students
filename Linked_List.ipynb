{
 "cells": [
  {
   "cell_type": "code",
   "execution_count": 12,
   "id": "90dc0428",
   "metadata": {},
   "outputs": [],
   "source": [
    "class ListNode:\n",
    "    def __init__(self, val=0, next=None):\n",
    "        self.val = val\n",
    "        self.next = next\n",
    "\n",
    "def find_cycle_length(head):\n",
    "    if not head:\n",
    "        return -1\n",
    "    slow = fast = head\n",
    "    while fast and fast.next:\n",
    "        slow = slow.next\n",
    "        fast = fast.next.next\n",
    "        if slow == fast:\n",
    "            length = 1\n",
    "            current = slow.next\n",
    "            while current != slow:\n",
    "                length += 1\n",
    "                current = current.next\n",
    "            return length\n",
    "    return -1"
   ]
  },
  {
   "cell_type": "code",
   "execution_count": 13,
   "id": "880fdf0c",
   "metadata": {},
   "outputs": [
    {
     "data": {
      "text/plain": [
       "3"
      ]
     },
     "execution_count": 13,
     "metadata": {},
     "output_type": "execute_result"
    }
   ],
   "source": [
    "# Sample linked list\n",
    "#  Our test diagram has 4 nodes: \n",
    "      # node1: 1 which points to node2\n",
    "      # node2: 2 which points to node3\n",
    "      # node3: 0 which points to node4\n",
    "      # node4: -7 which points to node2\n",
    "        \n",
    "# The cycle is: node2, node3, node4 and then node2 which means test must return 3\n",
    "\n",
    "node1 = ListNode(1)\n",
    "node2 = ListNode(2)\n",
    "node3 = ListNode(0)\n",
    "node4 = ListNode(-7)\n",
    "node1.next = node2\n",
    "node2.next = node3\n",
    "node3.next = node4\n",
    "node4.next = node2  \n",
    "\n",
    "\n",
    "find_cycle_length(node1)\n",
    "# As expected, find_cycle_length(node1) returns 3"
   ]
  }
 ],
 "metadata": {
  "kernelspec": {
   "display_name": "Python 3 (ipykernel)",
   "language": "python",
   "name": "python3"
  },
  "language_info": {
   "codemirror_mode": {
    "name": "ipython",
    "version": 3
   },
   "file_extension": ".py",
   "mimetype": "text/x-python",
   "name": "python",
   "nbconvert_exporter": "python",
   "pygments_lexer": "ipython3",
   "version": "3.11.3"
  }
 },
 "nbformat": 4,
 "nbformat_minor": 5
}
